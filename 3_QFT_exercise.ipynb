{
 "cells": [
  {
   "cell_type": "markdown",
   "metadata": {},
   "source": [
    "# Quantum Fourier transform\n",
    "\n",
    "In this tutorial, we will learn how to write and execute a quantum Fourier transform."
   ]
  },
  {
   "cell_type": "markdown",
   "metadata": {},
   "source": [
    "Warning: the bit ordering is not the same in input and output conventions. The relation between the input and output amplitudes is\n",
    "\n",
    "$$\\tilde{a}_{x}=\\frac{1}{\\sqrt{2^{n}}}\\sum_{k=0}^{2^{n}}\n",
    "\\left(e^{\\frac{2i\\pi}{2^{n}}}\\right)^{xk}a_{k}$$\n",
    "\n",
    "with $|\\psi_{\\mathrm{in}}\\rangle=\\sum_{k=0}^{2^{n}-1}a_{k}|k\\rangle$, $|\\psi_{\\mathrm{out}}\\rangle\n",
    "=\\sum_{x=0}^{2^{n}-1}\\tilde{a}_{x}|x\\rangle$, and \n",
    "\n",
    "$|k\\rangle=|b_{0}^{(k)},\\dots b_{n-1}^{(k)}\\rangle$ and $|x\\rangle=\n",
    "|b_{n-1}^{(x)},\\dots,b_{0}^{(x)}\\rangle$ (note the reversed bit order).\n",
    "\n",
    "\n",
    "The pseudo-code for the Quantum Fourier transform is:\n",
    "\n",
    "    let n denote the number of qubits\n",
    "    for i in 0 .. n-1:\n",
    "        apply H on qubit i\n",
    "        for j in i+1 .. n-1\n",
    "            angle = 2*pi/(2^{j-i+1})\n",
    "            apply a control-PH(angle) gate on qubits j (control qubit) and i (target qubit) \n",
    "\n",
    "\n",
    "## QLM implementation\n",
    "\n",
    "We can first use the QFT routine that is already implemented in ``myQLM``:"
   ]
  },
  {
   "cell_type": "code",
   "execution_count": null,
   "metadata": {},
   "outputs": [],
   "source": [
    "from qat.lang.AQASM.qftarith import QFT\n",
    "from qat.lang.AQASM import Program, H\n",
    "from qat.qpus import get_default_qpu\n",
    "\n",
    "nqbits = 4\n",
    "\n",
    "prog = Program()\n",
    "reg = prog.qalloc(nqbits)\n",
    "# here, we initialize the register with a superposition state (we could have chosen another initialization)\n",
    "for qb in range(nqbits):\n",
    "    H(reg[qb]) # equivalent to prog.apply(H, reg[qb])\n",
    "    \n",
    "prog.apply(QFT(nqbits), reg)\n",
    "\n",
    "circ = prog.to_circ()\n",
    "\n",
    "%qatdisplay circ\n",
    "\n",
    "# we can expand the \"QFT box\":\n",
    "%qatdisplay circ --depth 2\n",
    "\n",
    "# let us execute it on a QPU\n",
    "# ..."
   ]
  },
  {
   "cell_type": "markdown",
   "metadata": {},
   "source": [
    "- Is it the result you expected?\n",
    "- What happens if you change the initialization?"
   ]
  },
  {
   "cell_type": "markdown",
   "metadata": {},
   "source": [
    "## Our own implementation\n",
    "\n",
    "Let us now write our own implementation."
   ]
  },
  {
   "cell_type": "code",
   "execution_count": null,
   "metadata": {},
   "outputs": [],
   "source": [
    "import numpy as np\n",
    "from qat.lang.AQASM import QRoutine, PH\n",
    "\n",
    "def myQFT(nqbits):\n",
    "    routine = QRoutine()\n",
    "    # ...\n",
    "    return routine"
   ]
  },
  {
   "cell_type": "markdown",
   "metadata": {},
   "source": [
    "We can test it inside a program where we initialize the qubit register with a wall of Hadamard gates (aka Hadamard-Walsh transform):"
   ]
  },
  {
   "cell_type": "code",
   "execution_count": null,
   "metadata": {},
   "outputs": [],
   "source": [
    "nqbits=4\n",
    "prog = Program()\n",
    "reg = prog.qalloc(nqbits)\n",
    "for qb in range(nqbits):\n",
    "    H(reg[qb])\n",
    "prog.apply(myQFT(nqbits), reg)\n",
    "\n",
    "circ = prog.to_circ()\n",
    "\n",
    "%qatdisplay circ\n",
    "\n",
    "# let's execute it on a QPU:\n",
    "# ..."
   ]
  },
  {
   "cell_type": "markdown",
   "metadata": {},
   "source": [
    "## Quantum Fourier Transformation of a signal\n",
    "\n",
    "To go further, we now look into the hypothetical case where we have encoded a signal in the quantum register, and want to perform its Fourier transform.\n",
    "\n",
    "Such an encoding for an arbitrary signal is by no means simple. It in principle requires a so-called quantum random access memory (QRAM). Such QRAMs do not exist yet. One must also bear in mind that to load a classical signal of size $2^n$ in a QRAM, one needs $n$ qubits (hence an exponentialy memory gain compared to a classical storage), but one a priori needs $O(2^n)$ steps to perform this loading into the QRAM. \n",
    "\n",
    "In the following, we will nevertheless assume we have loaded such a signal. We will see later (see lecture on Shor's algorithm) that this loading problem can be avoided by solving problems where such an exponentially-large data input is not needed."
   ]
  },
  {
   "cell_type": "code",
   "execution_count": null,
   "metadata": {},
   "outputs": [],
   "source": [
    "def prepare_signal(nqbits):\n",
    "    \"\"\"Prepare a normalized input signal for the FT\n",
    "    Here, we choose a signal with two frequency components: om and 3*om\n",
    "    \"\"\"\n",
    "    t_max = 100\n",
    "    times = np.linspace(0, t_max, 2**nqbits)\n",
    "    om = 0.5\n",
    "    f = lambda t: 4 * np.exp(-1j * t * om) + 1 * np.exp(-1j * 3 * t * om)  \n",
    "    signal = np.array([f(t) for t in times])\n",
    "    return signal / np.linalg.norm(signal)"
   ]
  },
  {
   "cell_type": "markdown",
   "metadata": {},
   "source": [
    "We can check that this signal does have two harmonics:"
   ]
  },
  {
   "cell_type": "code",
   "execution_count": null,
   "metadata": {},
   "outputs": [],
   "source": [
    "import matplotlib.pyplot as plt\n",
    "nqbits = 5\n",
    "signal = prepare_signal(nqbits)\n",
    "plt.plot(abs(signal))"
   ]
  },
  {
   "cell_type": "markdown",
   "metadata": {},
   "source": [
    "### Check\n",
    "\n",
    "We first check that the state preparation routine does its job."
   ]
  },
  {
   "cell_type": "code",
   "execution_count": null,
   "metadata": {},
   "outputs": [],
   "source": [
    "from qat.qpus import PyLinalg\n",
    "from qat.lang.AQASM import AbstractGate\n",
    "StatePreparation = AbstractGate(\"STATE_PREPARATION\", [np.ndarray])\n",
    "qpu = PyLinalg()\n",
    "\n",
    "prog = Program()\n",
    "reg = prog.qalloc(nqbits)\n",
    "prog.apply(StatePreparation(signal), reg)\n",
    "circ = prog.to_circ()\n",
    "res = qpu.submit(circ.to_job())\n",
    "# we put the resulting probabilities into a vector 'probs'\n",
    "probs = np.zeros(2**nqbits)\n",
    "for sample in res:\n",
    "    probs[sample.state.int] = sample.probability"
   ]
  },
  {
   "cell_type": "code",
   "execution_count": null,
   "metadata": {},
   "outputs": [],
   "source": [
    "plt.plot(abs(signal)**2, '-o', label=\"in\")\n",
    "plt.plot(probs, label=\"out\")\n",
    "plt.legend()"
   ]
  },
  {
   "cell_type": "markdown",
   "metadata": {},
   "source": [
    "### Application of the QFT routine\n",
    "\n",
    "We now build a program that applies a QFT to the register:"
   ]
  },
  {
   "cell_type": "code",
   "execution_count": null,
   "metadata": {},
   "outputs": [],
   "source": [
    "from qat.lang.AQASM import QInt\n",
    "nqbits = 5\n",
    "prog = Program()\n",
    "reg = prog.qalloc(nqbits, class_type=QInt, reverse_bit_order=True)\n",
    "\n",
    "# ...\n",
    "\n",
    "# res = ...\n",
    "\n",
    "# put the resulting probabilities into a vector \"probs\"\n"
   ]
  },
  {
   "cell_type": "markdown",
   "metadata": {},
   "source": [
    "We reversed the bit order because bit ordering convention of the output register of the QFT is unconventional.\n",
    "\n",
    "We can check that we do have the two harmonics:"
   ]
  },
  {
   "cell_type": "code",
   "execution_count": null,
   "metadata": {},
   "outputs": [],
   "source": [
    "plt.bar(np.array(range(2**nqbits)),\n",
    "        probs,\n",
    "        width=4/5, label=\"out\")\n",
    "plt.legend()"
   ]
  },
  {
   "cell_type": "markdown",
   "metadata": {},
   "source": [
    "Let us compare to the result of a classical (I)FFT. Here, we directly compare probability amplitudes."
   ]
  },
  {
   "cell_type": "code",
   "execution_count": null,
   "metadata": {},
   "outputs": [],
   "source": [
    "amps = np.zeros(2**nqbits, np.complex_)\n",
    "for sample in res:\n",
    "    amps[sample.state.value] = sample.amplitude\n",
    "plt.plot(amps, label = \"qft\")\n",
    "fft_signal = np.fft.ifft(signal) * np.sqrt(2**nqbits) # the 2**nqbits factor comes from a slightly different normalization\n",
    "plt.plot(fft_signal, label = \"fft\")\n",
    "plt.legend()"
   ]
  },
  {
   "cell_type": "markdown",
   "metadata": {},
   "source": [
    "### Noisy simulation\n",
    "\n",
    "We now use a noisy QPU with depolarizing noise and investigate the impact of such a noise on the output spectrum."
   ]
  },
  {
   "cell_type": "code",
   "execution_count": null,
   "metadata": {},
   "outputs": [],
   "source": [
    "from depolarizing_plugin import DepolarizingPlugin\n",
    "depol_plugin = DepolarizingPlugin(prob_1qb=0.005, prob_2qb=0.05)\n",
    "noisy_qpu = depol_plugin | qpu\n",
    "\n",
    "# ...\n",
    "# put resulting probabilities into noisy_probs"
   ]
  },
  {
   "cell_type": "code",
   "execution_count": null,
   "metadata": {},
   "outputs": [],
   "source": [
    "plt.bar(np.array(range(2**nqbits)),\n",
    "        probs,\n",
    "        width=2/5, label=\"ideal\")\n",
    "plt.bar(np.array(range(2**nqbits))+2/5,\n",
    "        noisy_probs,\n",
    "        width=2/5, label=\"noisy\")\n",
    "plt.legend()"
   ]
  },
  {
   "cell_type": "markdown",
   "metadata": {},
   "source": [
    "An important caveat of this study is that reading out the output signal is also potentially an exponentially long task: if the support of the spectrum is exponentially large, in order to recover a proper estimate of the spectrum, we will need exponentially many measurements.\n",
    "\n",
    "To avoid this overhead, quantum algorithm designers use QFTs as a subroutine for problems where the final spectrum is known to be sparse, in which case it can be recovered in a few shots. This is for instance what is achieved in Shor's algorithm."
   ]
  },
  {
   "cell_type": "code",
   "execution_count": null,
   "metadata": {},
   "outputs": [],
   "source": []
  }
 ],
 "metadata": {
  "kernelspec": {
   "display_name": "Python 3",
   "language": "python",
   "name": "python3"
  },
  "language_info": {
   "codemirror_mode": {
    "name": "ipython",
    "version": 3
   },
   "file_extension": ".py",
   "mimetype": "text/x-python",
   "name": "python",
   "nbconvert_exporter": "python",
   "pygments_lexer": "ipython3",
   "version": "3.6.9"
  }
 },
 "nbformat": 4,
 "nbformat_minor": 4
}
