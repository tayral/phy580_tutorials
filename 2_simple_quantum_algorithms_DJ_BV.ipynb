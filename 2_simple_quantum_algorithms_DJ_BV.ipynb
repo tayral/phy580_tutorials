{
 "cells": [
  {
   "cell_type": "markdown",
   "metadata": {},
   "source": [
    "# Simple quantum algorithms\n",
    "\n",
    "\n",
    "## 1. Deutsch-Jozsa algorithm\n",
    "\n",
    "Alice wants to determine whether Bob's function $f(x)$ ($0 \\leq x \\leq 2^n -1$) is constant (always 0 or always 1) or balanced (0 on half of the entries, 1 on the other half).\n",
    "\n",
    "$f$ is of course unknown to Alice.\n",
    "\n",
    "The circuit corresponding to this algorithm is the following:\n",
    "\n",
    "![DJ circuit](https://upload.wikimedia.org/wikipedia/commons/b/b5/Deutsch-Jozsa-algorithm-quantum-circuit.png)\n",
    "\n",
    "\n",
    "### Deutsch-Jozsa oracle\n",
    "\n",
    "We first construct the quantum routine $U_f$ corresponding to the oracle:\n",
    "\n",
    "$$ U_{f}|x\\rangle|y\\rangle\\mapsto|x\\rangle|y\\oplus f(x)\\rangle $$"
   ]
  },
  {
   "cell_type": "code",
   "execution_count": 1,
   "metadata": {},
   "outputs": [],
   "source": [
    "from qat.lang.AQASM import H, X, CNOT, Program, QRoutine\n",
    "\n",
    "def dj_oracle(func):\n",
    "    \"\"\" construct quantum routine corresponding\n",
    "    to Deutsch-Jozsa's oracle for a 2-qubit function f: {0,1}^2 -> {0,1}.\n",
    "    \n",
    "    Args:\n",
    "        func (int):\n",
    "            if func=0, f is a constant, f(x) = 0 forall x;\n",
    "            if func=1, f is a constant, f(x) = 1 for all x;\n",
    "            if func=2, f is balanced. Here, we choose: f(00) = f(11) = 0, and f(01) = f(10) = 1\n",
    "            \n",
    "    Returns:\n",
    "        QRoutine: the quantum routine of DJ algo\n",
    "        \n",
    "    Note:\n",
    "        It would be even better to have implementation where f is specified by its action on input states,\n",
    "        and oracle circuit is synthesized accordingly\n",
    "    \"\"\"\n",
    "    routine = QRoutine()\n",
    "    query_reg = routine.new_wires(2)\n",
    "    anc = routine.new_wires(1)\n",
    "    \n",
    "    if func == 0:  \n",
    "        return routine\n",
    "    if func == 1:\n",
    "        routine.apply(X, anc) # if f : constant = 1\n",
    "        return routine\n",
    "    # else\n",
    "    for qb in [0, 1]:\n",
    "        routine.apply(CNOT, query_reg[qb], anc)\n",
    "    return routine"
   ]
  },
  {
   "cell_type": "markdown",
   "metadata": {},
   "source": [
    "### Deutsch-Jozsa program\n",
    "\n",
    "We now write the full program"
   ]
  },
  {
   "cell_type": "code",
   "execution_count": 2,
   "metadata": {},
   "outputs": [
    {
     "data": {
      "image/png": "[encoded data removed]",
      "text/plain": [
       "<IPython.core.display.Image object>"
      ]
     },
     "execution_count": 2,
     "metadata": {},
     "output_type": "execute_result"
    },
    {
     "data": {
      "image/png": "[encoded data removed]",
      "text/plain": [
       "<IPython.core.display.Image object>"
      ]
     },
     "execution_count": 2,
     "metadata": {},
     "output_type": "execute_result"
    }
   ],
   "source": [
    "def make_dj_circuit(func, nbshots=0):\n",
    "    prog = Program()\n",
    "    query_reg = prog.qalloc(2) # 2 qubits to encode x\n",
    "    anc = prog.qalloc(1) # ancilla\n",
    "\n",
    "    X(anc)\n",
    "    for qb in range(2):\n",
    "        H(query_reg[qb])\n",
    "    H(anc)\n",
    "\n",
    "    prog.apply(dj_oracle(func), query_reg, anc)\n",
    "\n",
    "    for qb in range(2):\n",
    "        H(query_reg[qb])\n",
    "\n",
    "    job = prog.to_circ().to_job(nbshots=nbshots, qubits=query_reg)\n",
    "    return job\n",
    "\n",
    "circ = make_dj_circuit(0).circuit\n",
    "%qatdisplay circ\n",
    "\n",
    "circ = make_dj_circuit(2).circuit\n",
    "%qatdisplay circ"
   ]
  },
  {
   "cell_type": "markdown",
   "metadata": {},
   "source": [
    "We run it for different functions $f$:"
   ]
  },
  {
   "cell_type": "code",
   "execution_count": 3,
   "metadata": {},
   "outputs": [
    {
     "name": "stdout",
     "output_type": "stream",
     "text": [
      "==== func = 0 ====\n",
      "|00> 0.9999999999999992\n",
      "==== func = 1 ====\n",
      "|00> 0.9999999999999992\n",
      "==== func = 2 ====\n",
      "|11> 0.9999999999999992\n"
     ]
    }
   ],
   "source": [
    "from qat.qpus import get_default_qpu\n",
    "qpu = get_default_qpu()\n",
    "for func in [0, 1, 2]:\n",
    "    print(\"==== func = %s ====\"%func)\n",
    "    job = make_dj_circuit(func)\n",
    "    res = qpu.submit(job)\n",
    "    for sample in res:\n",
    "        print(sample.state, sample.probability)"
   ]
  },
  {
   "cell_type": "markdown",
   "metadata": {},
   "source": [
    "We can check that for constant functions, we get state $|00\\rangle$."
   ]
  },
  {
   "cell_type": "markdown",
   "metadata": {},
   "source": [
    "## 2. Bernstein-Vazirani algorithm\n",
    "\n",
    "Goal: find the bitstring $s$ that appears in definition of function $$f(x) = x \\cdot s = \\sum_i x_i  s_i \\; \\mathrm{mod}\\, 2 $$ with $x_i$ the bits of the binary representation of $x$.\n",
    "\n",
    "The circuit corresponding to this algorithm is the following:\n",
    "\n",
    "![Bernstein Vazirani circuit](https://upload.wikimedia.org/wikipedia/commons/1/15/Bernstein-Vazirani_quantum_circuit.png)\n",
    "\n",
    "### Oracle\n",
    "\n",
    "The Bernstein-Vazirani oracle ${U}_f$ is defined as $${U}_f: |x\\rangle \\rightarrow (-)^{f(x)} |x\\rangle.$$\n",
    "\n",
    "To implement this oracle, we can use the oracle used for Deutsch-Josza, $$ \\tilde{U}_f : |x\\rangle |y\\rangle \\rightarrow |x \\rangle |y \\oplus f(x)\\rangle,$$\n",
    "with $f$ defined as $f(x) = x \\cdot s$, and with $|y\\rangle = (|0\\rangle - |1\\rangle)/\\sqrt{2}$.\n"
   ]
  },
  {
   "cell_type": "code",
   "execution_count": 4,
   "metadata": {},
   "outputs": [],
   "source": [
    "def dot_product(bitstring):\n",
    "    \"\"\"Construct quantum routine that does |a>|b> -> |a>|b + a.s mod. 2>\n",
    "    where a.s is the dot product between a and a bitstring s. The second register \n",
    "    is a one-qbit register.\n",
    "    \n",
    "    Args:\n",
    "        bitstring (str): the bitstring s\n",
    "    Returns:\n",
    "        QRoutine: the corresponding quantum routine\n",
    "    \"\"\"\n",
    "    qrout = QRoutine()\n",
    "    a_reg = qrout.new_wires(len(bitstring))\n",
    "    b_reg = qrout.new_wires(1)\n",
    "    for pos, bit in enumerate(bitstring):\n",
    "        if bit == \"1\":\n",
    "            qrout.apply(CNOT, a_reg[pos], b_reg)\n",
    "    return qrout"
   ]
  },
  {
   "cell_type": "markdown",
   "metadata": {},
   "source": [
    "### Full circuit"
   ]
  },
  {
   "cell_type": "code",
   "execution_count": 5,
   "metadata": {},
   "outputs": [
    {
     "data": {
      "image/png": "[encoded data removed]",
      "text/plain": [
       "<IPython.core.display.Image object>"
      ]
     },
     "execution_count": 5,
     "metadata": {},
     "output_type": "execute_result"
    },
    {
     "name": "stdout",
     "output_type": "stream",
     "text": [
      "|5> 0.9999999999999987\n"
     ]
    }
   ],
   "source": [
    "import qat.lang.AQASM.classarith\n",
    "from qat.lang.AQASM.arithmetic import mult_const_mod\n",
    "from qat.lang.AQASM import QInt\n",
    "\n",
    "hidden_string = \"101\" # 5\n",
    "n_data_bits = len(hidden_string)\n",
    "\n",
    "prog = Program()\n",
    "reg = prog.qalloc(n_data_bits, class_type=QInt, reverse_bit_order=True)\n",
    "ancilla = prog.qalloc(1, class_type=QInt, reverse_bit_order=True)\n",
    "\n",
    "for qb in range(n_data_bits):\n",
    "    H(reg[qb])\n",
    "prog.apply(X, ancilla[0])\n",
    "prog.apply(H, ancilla[0]) # to obtain |0> - |1> on ancilla qubit\n",
    "\n",
    "prog.apply(dot_product(hidden_string), reg, ancilla)\n",
    "\n",
    "for qb in range(n_data_bits): # on data qubits only\n",
    "    H(reg[qb])\n",
    "    \n",
    "prog.apply(H, ancilla[0])\n",
    "prog.apply(X, ancilla[0])\n",
    "    \n",
    "circ = prog.to_circ()\n",
    "%qatdisplay circ\n",
    "qpu = get_default_qpu()\n",
    "job = circ.to_job(nbshots=0, qubits=reg)\n",
    "res = qpu.submit(job)\n",
    "\n",
    "list_states = []\n",
    "for sample in res:\n",
    "    list_states.append((sample.probability, sample.state))\n",
    "for prob, state in reversed(sorted(list_states,  key=lambda x: x[0])):\n",
    "    print(state, prob)"
   ]
  },
  {
   "cell_type": "markdown",
   "metadata": {},
   "source": [
    "### With a noisy QPU\n",
    "\n",
    "We now execute the circuit on a noisy QPU simulator. To achieve this, we are going to turn our perfect QPU ``qpu`` into a noisy one by simply combining it with a so-called plugin that adds \"depolarizing noise\" on the circuit:"
   ]
  },
  {
   "cell_type": "code",
   "execution_count": 6,
   "metadata": {},
   "outputs": [],
   "source": [
    "from depolarizing_plugin import DepolarizingPlugin\n",
    "depol_plugin = DepolarizingPlugin(prob_1qb=0.005, prob_2qb=0.05)\n",
    "qpu = get_default_qpu()\n",
    "noisy_qpu = depol_plugin | qpu"
   ]
  },
  {
   "cell_type": "markdown",
   "metadata": {},
   "source": [
    "Depolarizing noise, as any noise, is defined by its action on the density matrix $\\rho$:\n",
    "\n",
    "$$\\mathcal{E}(\\rho) = (1-p) \\rho + \\frac{p}{3} \\left( X \\rho X + Y \\rho Y + Z \\rho Z \\right)$$\n",
    "\n",
    "with $X$, $Y$, and $Z$ the three Pauli matrices, and $p$ the probability that a depolarization event happens. (This is for one-qubit depolarizing noise; a similar expression holds for two-qubit depolarizing noise, with $X$, $Y$ and $Z$ replaced by tensor products of Pauli matrices).\n",
    "\n",
    "In other words, depolarizing noise leaves the qubit unchanged with probability $1-p$, and otherwise applies a $X$, $Y$ or $Z$ gate with probability $p/3$. $p$ is what is called ``prob_1qb`` above. \n",
    "\n",
    "This type of noise is not exactly the type of noise that is observed in actual quantum computers, but it is close enough and it allows to understand the main effects of noise.\n",
    "\n",
    "Here, the plugin adds depoalizing noise after each gate to mimic an imperfect gate.\n",
    "\n",
    "- Check that this noise preserves the trace of the density matrix\n",
    "- What are the corresponding Kraus operators?\n",
    "\n",
    "We now execute the circuit on this noisy QPU:"
   ]
  },
  {
   "cell_type": "code",
   "execution_count": 7,
   "metadata": {},
   "outputs": [
    {
     "name": "stdout",
     "output_type": "stream",
     "text": [
      "|5> 0.9079999999999999\n",
      "|1> 0.03999999999999997\n",
      "|0> 0.023999999999999973\n",
      "|4> 0.01799999999999997\n",
      "|7> 0.008999999999999985\n",
      "|6> 0.0009999999999999987\n",
      "|3> 0.0\n",
      "|2> 0.0\n"
     ]
    }
   ],
   "source": [
    "\n",
    "job = circ.to_job(nbshots=0, qubits=reg)\n",
    "res = noisy_qpu.submit(job)\n",
    "\n",
    "list_states = []\n",
    "for sample in res:\n",
    "    list_states.append((sample.probability, sample.state))\n",
    "for prob, state in reversed(sorted(list_states,  key=lambda x: x[0])):\n",
    "    print(state, prob)"
   ]
  },
  {
   "cell_type": "markdown",
   "metadata": {},
   "source": [
    "We see that the probability of getting the right answer (5) is no longer 100% because of noise."
   ]
  }
 ],
 "metadata": {
  "kernelspec": {
   "display_name": "Python 3",
   "language": "python",
   "name": "python3"
  },
  "language_info": {
   "codemirror_mode": {
    "name": "ipython",
    "version": 3
   },
   "file_extension": ".py",
   "mimetype": "text/x-python",
   "name": "python",
   "nbconvert_exporter": "python",
   "pygments_lexer": "ipython3",
   "version": "3.6.8"
  }
 },
 "nbformat": 4,
 "nbformat_minor": 4
}
