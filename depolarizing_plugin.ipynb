{
 "cells": [
  {
   "cell_type": "code",
   "execution_count": 1,
   "metadata": {},
   "outputs": [
    {
     "name": "stdout",
     "output_type": "stream",
     "text": [
      "15\n",
      "norm final distrib= 1.0000000000000222\n",
      "|00> 0.03143222612311677\n",
      "|01> 0.46856777387689436\n",
      "|10> 0.46856777387689436\n",
      "|11> 0.03143222612311677\n",
      "====\n",
      "|00> 0.019734751499278724\n",
      "|01> 0.4802652485007212\n",
      "|10> 0.4802652485007212\n",
      "|11> 0.019734751499278724\n"
     ]
    }
   ],
   "source": [
    "from depolarizing_plugin import DepolarizingPlugin\n",
    "\n",
    "\n",
    "from qat.lang.AQASM import H, X, RX, Program, CNOT\n",
    "from qat.qpus import get_default_qpu\n",
    "\n",
    "prog = Program()\n",
    "reg = prog.qalloc(2)\n",
    "prog.apply(H, reg[0])\n",
    "prog.apply(X, reg[1])\n",
    "prog.apply(CNOT, reg)\n",
    "prog.apply(RX(0.4), reg[0])\n",
    "\n",
    "circ = prog.to_circ()\n",
    "\n",
    "prob_1q = 0.0\n",
    "prob_2q = 0.05\n",
    "\n",
    "qpu = get_default_qpu()\n",
    "depol = DepolarizingPlugin(prob_1qb=prob_1q, prob_2qb=prob_2q, n_samples=5000)\n",
    "res = (depol|qpu).submit(circ.to_job())\n",
    "for sample in res:\n",
    "    print(sample.state, sample.probability)\n",
    "\n",
    "print(\"====\")\n",
    "res = qpu.submit(circ.to_job())\n",
    "for sample in res:\n",
    "    print(sample.state, sample.probability)"
   ]
  },
  {
   "cell_type": "markdown",
   "metadata": {},
   "source": [
    "## Same computation, with qat.noisy simulator"
   ]
  },
  {
   "cell_type": "code",
   "execution_count": 2,
   "metadata": {},
   "outputs": [
    {
     "name": "stdout",
     "output_type": "stream",
     "text": [
      "====\n",
      "|00> 0.03201556475265052\n",
      "|01> 0.4679844352473491\n",
      "|10> 0.4679844352473492\n",
      "|11> 0.03201556475265052\n"
     ]
    }
   ],
   "source": [
    "from qat.qpus import NoisyQProc\n",
    "from qat.quops import make_depolarizing_channel\n",
    "\n",
    "depol1 = make_depolarizing_channel(prob_1q, 1, 'equal_probs')\n",
    "depol2 = make_depolarizing_channel(prob_2q, 2, 'equal_probs')\n",
    "\n",
    "from qat.hardware import DefaultHardwareModel\n",
    "gate_noise_dict = {}\n",
    "for gname in [\"X\", \"H\"]:\n",
    "    gate_noise_dict[gname] = lambda: depol1 \n",
    "for gname in [\"RX\"]:\n",
    "    gate_noise_dict[gname] = lambda _: depol1 \n",
    "for gname in [\"CNOT\"]:\n",
    "    gate_noise_dict[gname] = lambda: depol2\n",
    "hw_model = DefaultHardwareModel(gate_noise=gate_noise_dict)\n",
    "\n",
    "noisy_qpu = NoisyQProc(hardware_model=hw_model, \n",
    "                       #sim_method=\"stochastic\"\n",
    "                      )\n",
    "\n",
    "print(\"====\")\n",
    "res = noisy_qpu.submit(circ.to_job())\n",
    "for sample in res:\n",
    "    print(sample.state, sample.probability)\n"
   ]
  },
  {
   "cell_type": "code",
   "execution_count": null,
   "metadata": {},
   "outputs": [],
   "source": []
  }
 ],
 "metadata": {
  "kernelspec": {
   "display_name": "Python 3",
   "language": "python",
   "name": "python3"
  },
  "language_info": {
   "codemirror_mode": {
    "name": "ipython",
    "version": 3
   },
   "file_extension": ".py",
   "mimetype": "text/x-python",
   "name": "python",
   "nbconvert_exporter": "python",
   "pygments_lexer": "ipython3",
   "version": "3.6.8"
  }
 },
 "nbformat": 4,
 "nbformat_minor": 4
}
