{
 "cells": [
  {
   "cell_type": "markdown",
   "metadata": {},
   "source": [
    "# Getting started with the Depolarizing Plugin\n",
    "\n",
    "In this repository, we supply a special myQLM plugin, dubbed `DepolaringPlugin`, to perform basic noisy simulations.\n",
    "\n",
    "When used to build a stack with a perfect QPU, it is equivalent to a noisy QPU with a depolarizing noise model.\n",
    "\n",
    "Here, we define the depolarizing noise model by its action on the density matrix:\n",
    "\n",
    "$$\\mathcal{E}(\\rho) = (1 - p) \\rho + \\frac{p}{4^{n_\\mathrm{qbits}}-1}\\sum_{k = 1}^{4^{n_\\mathrm{qbits}}} P_k \\rho P_k$$\n",
    "\n",
    "where $\\lbrace P_k, k = 0 \\dots 4^{n_\\mathrm{qbits}} \\rbrace$ denotes the set of all products of Pauli matrices (including the identity) for $n_\\mathrm{qubits}$ qubits. By convention, $P_0 = I_{2^{n_\\mathrm{qbits}}}$.\n",
    "\n",
    "Physically, such a channel leaves the density matrix constant with probability $1-p$, and applies a random generalized Pauli error to it with probability $p$. It is often used in proofs of quantum error correction algorithms.\n",
    "\n",
    "Let us learn how to use it. \n",
    "\n",
    "We first build a circuit, and execute it on a perfect QPU for a reference:"
   ]
  },
  {
   "cell_type": "code",
   "execution_count": 1,
   "metadata": {},
   "outputs": [
    {
     "name": "stdout",
     "output_type": "stream",
     "text": [
      "|00> 0.019734751499278724\n",
      "|01> 0.4802652485007212\n",
      "|10> 0.4802652485007212\n",
      "|11> 0.019734751499278724\n"
     ]
    }
   ],
   "source": [
    "from qat.lang.AQASM import H, X, RX, Program, CNOT\n",
    "from qat.qpus import get_default_qpu\n",
    "\n",
    "prog = Program()\n",
    "reg = prog.qalloc(2)\n",
    "prog.apply(H, reg[0])\n",
    "prog.apply(X, reg[1])\n",
    "prog.apply(CNOT, reg)\n",
    "prog.apply(RX(0.4), reg[0])\n",
    "\n",
    "circ = prog.to_circ()\n",
    "\n",
    "qpu = get_default_qpu()\n",
    "res = qpu.submit(circ.to_job())\n",
    "for sample in res:\n",
    "    print(sample.state, sample.probability)"
   ]
  },
  {
   "cell_type": "markdown",
   "metadata": {},
   "source": [
    "## With depolarizing plugin\n",
    "\n",
    "The depolarizing plugin models errors in the following way: each perfect gate, represented by the quantum channel\n",
    "\n",
    "$$\\mathcal{U}(\\rho) = U \\rho U^\\dagger,$$\n",
    "\n",
    "is replaced by\n",
    "\n",
    "$$\\tilde{\\mathcal{U}}(\\rho) = \\mathcal{E} \\circ \\mathcal{U} (\\rho),$$\n",
    "\n",
    "namely each gate is followed by a depolarizing channel. Since, in actual hardware, one-qubit and two-qubit gates have very different error rates (they typically differ by an order of magnitude), we use depolarizing channels with different depolarization probabilities for one and two qubit gates. These probabibilities are set using the parameters ``prob_1qb`` and ``prob_2qb``, respectively.\n",
    "\n",
    "Internally, the simulation of such a channel is made probabilistically using a method similar to the quantum trajectories approach. The number of stochastic samples is set by the ``n_samples`` parameter. Because of the statistical nature of the method, the probabilities obtained for the final state may vary from one run to the other. To reduce this variability, you need to increase the number of samples, at the expense of simulation speed."
   ]
  },
  {
   "cell_type": "code",
   "execution_count": 2,
   "metadata": {},
   "outputs": [
    {
     "name": "stdout",
     "output_type": "stream",
     "text": [
      "|00> 0.035116470099126926\n",
      "|01> 0.46488352990088144\n",
      "|10> 0.46488352990088144\n",
      "|11> 0.035116470099126926\n"
     ]
    }
   ],
   "source": [
    "from depolarizing_plugin import DepolarizingPlugin\n",
    "prob_1q = 0.005\n",
    "prob_2q = 0.05\n",
    "\n",
    "depol = DepolarizingPlugin(prob_1qb=prob_1q, prob_2qb=prob_2q, n_samples=5000)\n",
    "res = (depol|qpu).submit(circ.to_job())\n",
    "for sample in res:\n",
    "    print(sample.state, sample.probability)"
   ]
  },
  {
   "cell_type": "markdown",
   "metadata": {},
   "source": [
    "You can see that the final state distribution is different from the state distribution obtained with a perfect QPU."
   ]
  },
  {
   "cell_type": "markdown",
   "metadata": {},
   "source": [
    "### Same computation, with qat.noisy simulator (QLM only)\n",
    "\n",
    "If you have access to a QLM (as opposed to myQLM only), you can use more powerful simulators to simulate noisy QPUs:"
   ]
  },
  {
   "cell_type": "code",
   "execution_count": 3,
   "metadata": {},
   "outputs": [
    {
     "name": "stdout",
     "output_type": "stream",
     "text": [
      "|00> 0.034912335692159735\n",
      "|01> 0.4650876643078399\n",
      "|10> 0.4650876643078399\n",
      "|11> 0.034912335692159735\n"
     ]
    }
   ],
   "source": [
    "from qat.qpus import NoisyQProc\n",
    "from qat.quops import make_depolarizing_channel\n",
    "\n",
    "depol1 = make_depolarizing_channel(prob_1q, 1, 'equal_probs')\n",
    "depol2 = make_depolarizing_channel(prob_2q, 2, 'equal_probs')\n",
    "\n",
    "from qat.hardware import DefaultHardwareModel\n",
    "gate_noise_dict = {}\n",
    "for gname in [\"X\", \"H\"]:\n",
    "    gate_noise_dict[gname] = lambda: depol1 \n",
    "for gname in [\"RX\"]:\n",
    "    gate_noise_dict[gname] = lambda _: depol1 \n",
    "for gname in [\"CNOT\"]:\n",
    "    gate_noise_dict[gname] = lambda: depol2\n",
    "hw_model = DefaultHardwareModel(gate_noise=gate_noise_dict)\n",
    "noisy_qpu = NoisyQProc(hardware_model=hw_model)\n",
    "\n",
    "res = noisy_qpu.submit(circ.to_job())\n",
    "for sample in res:\n",
    "    print(sample.state, sample.probability)"
   ]
  },
  {
   "cell_type": "code",
   "execution_count": null,
   "metadata": {},
   "outputs": [],
   "source": []
  }
 ],
 "metadata": {
  "kernelspec": {
   "display_name": "Python 3",
   "language": "python",
   "name": "python3"
  },
  "language_info": {
   "codemirror_mode": {
    "name": "ipython",
    "version": 3
   },
   "file_extension": ".py",
   "mimetype": "text/x-python",
   "name": "python",
   "nbconvert_exporter": "python",
   "pygments_lexer": "ipython3",
   "version": "3.6.8"
  }
 },
 "nbformat": 4,
 "nbformat_minor": 4
}
