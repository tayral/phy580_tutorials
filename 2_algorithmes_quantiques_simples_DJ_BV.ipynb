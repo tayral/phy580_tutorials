{
 "cells": [
  {
   "cell_type": "markdown",
   "metadata": {},
   "source": [
    "# Algorithmes quantiques simples\n",
    "\n",
    "## Deutsch-Jozsa algorithm\n",
    "\n",
    "Deutsch's problem: Alice wants to determine whether Bob's function $f(x)$ ($0 \\leq x \\leq 2^n -1$) is constant (always 0 or always 1) or balanced (0 on half of the entries, 1 on the other half).\n",
    "\n",
    "$f$ is of course unknown to Alice.\n",
    "\n",
    "### Deutsch-Jozsa oracle\n",
    "\n",
    "We first construct the quantum routine $U$ corresponding to the oracle:\n",
    "\n",
    "$$ U_{f}|x\\rangle|y\\rangle\\mapsto|x\\rangle|y\\oplus f(x)\\rangle $$"
   ]
  },
  {
   "cell_type": "code",
   "execution_count": 1,
   "metadata": {},
   "outputs": [],
   "source": [
    "from qat.lang.AQASM import H, X, CNOT, Program, QRoutine\n",
    "\n",
    "def dj_oracle(func):\n",
    "    \"\"\" construct quantum routine corresponding\n",
    "    to Deutsch-Josza's oracle for a 2-qubit function f.\n",
    "    \n",
    "    Args:\n",
    "        func (int):\n",
    "            if func=0, f is a constant = 0;\n",
    "            if func=1, f is a constant = 1;\n",
    "            if func=2, f is balanced: f(00) = f(11) = 0, and f(01) = f(10) = 1\n",
    "            \n",
    "    Returns:\n",
    "        QRoutine: the quantum routine of DJ algo\n",
    "        \n",
    "    Note:\n",
    "        It would be even better to have implem where f is specified by its action on input states,\n",
    "        and oracle circuit is synthesized accordingly\n",
    "    \"\"\"\n",
    "    routine = QRoutine(3) \n",
    "    if func == 0:  \n",
    "        return routine\n",
    "    if func == 1:\n",
    "        routine.apply(X, 2) # if f : constant = 1\n",
    "        return routine\n",
    "    # else\n",
    "    routine.apply(CNOT, 0, 2)\n",
    "    routine.apply(CNOT, 1, 2)\n",
    "    return routine"
   ]
  },
  {
   "cell_type": "markdown",
   "metadata": {},
   "source": [
    "### Deutsch-Jozsa program\n",
    "\n",
    "We now write the full program"
   ]
  },
  {
   "cell_type": "code",
   "execution_count": 2,
   "metadata": {},
   "outputs": [
    {
     "data": {
      "image/png": "[encoded data removed]",
      "text/plain": [
       "<IPython.core.display.Image object>"
      ]
     },
     "execution_count": 2,
     "metadata": {},
     "output_type": "execute_result"
    },
    {
     "data": {
      "image/png": "[encoded data removed]",
      "text/plain": [
       "<IPython.core.display.Image object>"
      ]
     },
     "execution_count": 2,
     "metadata": {},
     "output_type": "execute_result"
    }
   ],
   "source": [
    "def make_dj_circuit(func):\n",
    "    prog = Program()\n",
    "    reg = prog.qalloc(3) # 2 qubits to encode x\n",
    "\n",
    "    X(reg[2])\n",
    "\n",
    "    for qb in range(3):\n",
    "        H(reg[qb])\n",
    "\n",
    "    prog.apply(dj_oracle(func), reg)\n",
    "\n",
    "    for qb in range(2):\n",
    "        H(reg[qb])\n",
    "\n",
    "    circ = prog.to_circ()\n",
    "    return circ\n",
    "\n",
    "circ = make_dj_circuit(0)\n",
    "%qatdisplay circ\n",
    "\n",
    "circ = make_dj_circuit(2)\n",
    "%qatdisplay circ"
   ]
  },
  {
   "cell_type": "markdown",
   "metadata": {},
   "source": [
    "We run it for different functions $f$:"
   ]
  },
  {
   "cell_type": "code",
   "execution_count": 3,
   "metadata": {},
   "outputs": [
    {
     "name": "stdout",
     "output_type": "stream",
     "text": [
      "==== func = 0 ====\n",
      "|00> 1.0\n",
      "==== func = 1 ====\n",
      "|00> 1.0\n",
      "==== func = 2 ====\n",
      "|11> 1.0\n"
     ]
    }
   ],
   "source": [
    "from qat.qpus import get_default_qpu\n",
    "qpu = get_default_qpu()\n",
    "for func in [0, 1, 2]:\n",
    "    print(\"==== func = %s ====\"%func)\n",
    "    circ = make_dj_circuit(func)\n",
    "    job = circ.to_job(nbshots=1, qubits=[0, 1])  # we measure only the qubits of the query register\n",
    "    res = qpu.submit(job)\n",
    "    for sample in res:\n",
    "        print(sample.state, sample.probability)"
   ]
  },
  {
   "cell_type": "markdown",
   "metadata": {},
   "source": [
    "We can check that for constant functions, we get state $|00\\rangle$."
   ]
  },
  {
   "cell_type": "markdown",
   "metadata": {},
   "source": [
    "## Bernstein-Vazirani algorithm\n",
    "\n",
    "Goal: find bitstring $s$ that appears in definition of function $f(x) = x \\cdot s$.\n",
    "\n",
    "Reminder of the trick: the oracle to realize $\\tilde{U}_f$ needs to implement $\\tilde{U}_f: |x\\rangle \\rightarrow (-)^{f(x)} |x\\rangle$. To do this, we can use the oracle used for Deutsch-Josza, $ U_f : |x\\rangle |y\\rangle \\rightarrow |x \\rangle |y \\oplus f(x)\\rangle$, with $|y\\rangle = (|0\\rangle - |1\\rangle)/\\sqrt{2}$.\n"
   ]
  },
  {
   "cell_type": "code",
   "execution_count": 46,
   "metadata": {},
   "outputs": [],
   "source": [
    "def dot_product(bitstring):\n",
    "    \"\"\"Construct quantum routine that does |a>|b> -> |a>|b + a.s mod. 2>\n",
    "    where a.s is the dot product between a and a bitstring s. The second register \n",
    "    is a one-qbit register.\n",
    "    \n",
    "    Args:\n",
    "        bitstring (str): a bitstring\n",
    "    Returns:\n",
    "        QRoutine: the corresponding quantum routine\n",
    "    \"\"\"\n",
    "    qrout = QRoutine()\n",
    "    a_reg = qrout.new_wires(len(bitstring))\n",
    "    b_reg = qrout.new_wires(1)\n",
    "    for pos, bit in enumerate(bitstring):\n",
    "        if bit == \"1\":\n",
    "            qrout.apply(CNOT, a_reg[pos], b_reg)\n",
    "    return qrout"
   ]
  },
  {
   "cell_type": "code",
   "execution_count": 52,
   "metadata": {},
   "outputs": [
    {
     "data": {
      "image/png": "[encoded data removed]",
      "text/plain": [
       "<IPython.core.display.Image object>"
      ]
     },
     "execution_count": 52,
     "metadata": {},
     "output_type": "execute_result"
    },
    {
     "name": "stdout",
     "output_type": "stream",
     "text": [
      "|4> 0.9999999999999987\n"
     ]
    }
   ],
   "source": [
    "import qat.lang.AQASM.classarith\n",
    "from qat.lang.AQASM.arithmetic import mult_const_mod\n",
    "from qat.lang.AQASM import QInt\n",
    "\n",
    "hidden_string = \"001\" # 4\n",
    "n_data_bits = len(hidden_string)\n",
    "\n",
    "prog = Program()\n",
    "reg = prog.qalloc(n_data_bits, class_type=QInt, reverse_bit_order=True)\n",
    "ancilla = prog.qalloc(1, class_type=QInt, reverse_bit_order=True)\n",
    "\n",
    "for qb in range(n_data_bits):\n",
    "    H(reg[qb])\n",
    "prog.apply(X, ancilla[0])\n",
    "prog.apply(H, ancilla[0]) # to obtain |0> - |1> on ancilla qubit\n",
    "\n",
    "prog.apply(dot_product(hidden_string), reg, ancilla)\n",
    "\n",
    "for qb in range(n_data_bits): # on data qubits only\n",
    "    H(reg[qb])\n",
    "    \n",
    "prog.apply(H, ancilla[0])\n",
    "prog.apply(X, ancilla[0])\n",
    "    \n",
    "circ = prog.to_circ(link=[qat.lang.AQASM.qftarith])\n",
    "%qatdisplay circ\n",
    "qpu = get_default_qpu()\n",
    "job = circ.to_job(nbshots=0, qubits=reg)\n",
    "res = qpu.submit(job)\n",
    "\n",
    "list_states = []\n",
    "for sample in res:\n",
    "    list_states.append((sample.probability, sample.state))\n",
    "for prob, state in reversed(sorted(list_states,  key=lambda x: x[0])):\n",
    "    print(state, prob)"
   ]
  },
  {
   "cell_type": "markdown",
   "metadata": {},
   "source": [
    "## With a Noisy QPU"
   ]
  },
  {
   "cell_type": "code",
   "execution_count": null,
   "metadata": {},
   "outputs": [
    {
     "name": "stdout",
     "output_type": "stream",
     "text": [
      "15\n"
     ]
    }
   ],
   "source": [
    "from depolarizing_plugin import DepolarizingPlugin\n",
    "\n",
    "depol_plugin = DepolarizingPlugin(prob_1qb=0.005, prob_2qb=0.05)\n",
    "\n",
    "qpu = get_default_qpu()\n",
    "\n",
    "noisy_qpu = depol_plugin | qpu\n",
    "\n",
    "res = noisy_qpu.submit(job)\n",
    "\n",
    "list_states = []\n",
    "for sample in res:\n",
    "    list_states.append((sample.probability, sample.state))\n",
    "for prob, state in reversed(sorted(list_states,  key=lambda x: x[0])):\n",
    "    print(state, prob)"
   ]
  },
  {
   "cell_type": "code",
   "execution_count": null,
   "metadata": {},
   "outputs": [],
   "source": []
  }
 ],
 "metadata": {
  "kernelspec": {
   "display_name": "Python 3",
   "language": "python",
   "name": "python3"
  },
  "language_info": {
   "codemirror_mode": {
    "name": "ipython",
    "version": 3
   },
   "file_extension": ".py",
   "mimetype": "text/x-python",
   "name": "python",
   "nbconvert_exporter": "python",
   "pygments_lexer": "ipython3",
   "version": "3.6.8"
  }
 },
 "nbformat": 4,
 "nbformat_minor": 4
}
