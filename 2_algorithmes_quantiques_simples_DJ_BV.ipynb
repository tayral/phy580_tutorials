{
 "cells": [
  {
   "cell_type": "markdown",
   "metadata": {},
   "source": [
    "# Algorithmes quantiques simples\n",
    "\n",
    "## Deutsch-Josza algorithm\n",
    "\n",
    "Deutsch's problem: Alice wants to determine whether Bob's function $f(x)$ ($0 \\leq x \\leq 2^n -1$) is constant (always 0 or always 1) or balanced (0 on half of the entries, 1 on the other half).\n",
    "\n",
    "$f$ is of course unknown to Alice.\n"
   ]
  },
  {
   "cell_type": "code",
   "execution_count": 1,
   "metadata": {},
   "outputs": [],
   "source": [
    "from qat.lang.AQASM import H, X, CNOT, Program, QRoutine\n",
    "\n",
    "# we first construct the gate corresponding to the oracle\n",
    "def dj_oracle(constant):\n",
    "    \"\"\" construct quantum routine corresponding\n",
    "    to Deutsch-Josza's oracle for 2 qubits\n",
    "    \n",
    "    Args:\n",
    "        constant (bool): if true, f is a constant = 0; else, f(00) = f(11) = 0,\n",
    "            and the rest is 1.\n",
    "    \"\"\"\n",
    "    routine = QRoutine(3) \n",
    "    if constant:\n",
    "        # routine.apply(X, 2) # if constant = 1\n",
    "        return routine\n",
    "    # else\n",
    "    routine.apply(CNOT, 0, 2)\n",
    "    routine.apply(CNOT, 1, 2)\n",
    "    return routine"
   ]
  },
  {
   "cell_type": "code",
   "execution_count": 2,
   "metadata": {},
   "outputs": [
    {
     "data": {
      "image/png": "[encoded data removed]",
      "text/plain": [
       "<IPython.core.display.Image object>"
      ]
     },
     "execution_count": 2,
     "metadata": {},
     "output_type": "execute_result"
    }
   ],
   "source": [
    "prog = Program()\n",
    "reg = prog.qalloc(3) # 2 qubits to encode x\n",
    "\n",
    "X(reg[2])\n",
    "for qb in range(3):\n",
    "    H(reg[qb])\n",
    "prog.apply(dj_oracle(False), reg)\n",
    "    \n",
    "for qb in range(2):\n",
    "    H(reg[qb])\n",
    "    \n",
    "circ = prog.to_circ()\n",
    "%qatdisplay circ"
   ]
  },
  {
   "cell_type": "code",
   "execution_count": 3,
   "metadata": {},
   "outputs": [],
   "source": [
    "from qat.qpus import get_default_qpu\n",
    "\n",
    "qpu = get_default_qpu()\n",
    "job = circ.to_job(nbshots=1, qubits=[0, 1])\n",
    "res = qpu.submit(job)"
   ]
  },
  {
   "cell_type": "code",
   "execution_count": 4,
   "metadata": {},
   "outputs": [
    {
     "name": "stdout",
     "output_type": "stream",
     "text": [
      "|11> 1.0\n"
     ]
    }
   ],
   "source": [
    "for sample in res:\n",
    "    print(sample.state, sample.probability)"
   ]
  },
  {
   "cell_type": "markdown",
   "metadata": {},
   "source": [
    "Additional question: How to synthesize oracle automatically for any given balanced $f$? "
   ]
  },
  {
   "cell_type": "markdown",
   "metadata": {},
   "source": [
    "## Bernstein-Vazirani algorithm\n",
    "\n",
    "Goal: find bitstring $s$ that appears in definition of function $f(x) = x \\cdot s$.\n",
    "\n",
    "Reminder of the trick: the oracle to realize $\\tilde{U}_f$ needs to implement $\\tilde{U}_f: |x\\rangle \\rightarrow (-)^{f(x)} |x\\rangle$. To do this, we can use the oracle used for Deutsch-Josza, $ U_f : |x\\rangle |y\\rangle \\rightarrow |x \\rangle |y \\oplus f(x)\\rangle$, with $|y\\rangle = (|0\\rangle - |1\\rangle)/\\sqrt{2}$.\n",
    "\n",
    "Hint: some of the operations you need are already implemented, see: https://myqlm.github.io/qat-lang-arith.html#qat.lang.AQASM.arithmetic.mult_const_mod."
   ]
  },
  {
   "cell_type": "code",
   "execution_count": 5,
   "metadata": {},
   "outputs": [
    {
     "data": {
      "image/png": "[encoded data removed]",
      "text/plain": [
       "<IPython.core.display.Image object>"
      ]
     },
     "execution_count": 5,
     "metadata": {},
     "output_type": "execute_result"
    }
   ],
   "source": [
    "import qat.lang.AQASM.classarith\n",
    "from qat.lang.AQASM.arithmetic import mult_const_mod\n",
    "\n",
    "hidden_string = 1 # \n",
    "\n",
    "prog = Program()\n",
    "reg = prog.qalloc(5) # 3 + 2 ancilla\n",
    "\n",
    "prog.apply(X, reg[3]) # to obtain |0> - |1> on ancilla qubit\n",
    "for qb in range(4):\n",
    "    H(reg[qb])\n",
    "\n",
    "prog.apply(mult_const_mod(3, 2, hidden_string, 2), reg)\n",
    "\n",
    "for qb in range(3): # on data qubits only\n",
    "    H(reg[qb])\n",
    "    \n",
    "circ = prog.to_circ(link=[qat.lang.AQASM.classarith])\n",
    "%qatdisplay circ"
   ]
  },
  {
   "cell_type": "code",
   "execution_count": 6,
   "metadata": {},
   "outputs": [],
   "source": [
    "qpu = get_default_qpu()\n",
    "job = circ.to_job(nbshots=0)\n",
    "res = qpu.submit(job)"
   ]
  },
  {
   "cell_type": "code",
   "execution_count": 7,
   "metadata": {},
   "outputs": [
    {
     "name": "stdout",
     "output_type": "stream",
     "text": [
      "|100000000> 0.12499999999999986\n",
      "|100000100> 0.12499999999999986\n",
      "|100100000> 0.12499999999999986\n",
      "|100100100> 0.12499999999999986\n",
      "|101000000> 0.12499999999999986\n",
      "|101000100> 0.12499999999999986\n",
      "|101100000> 0.12499999999999986\n",
      "|101100100> 0.12499999999999986\n"
     ]
    }
   ],
   "source": [
    "for sample in res:\n",
    "    print(sample.state, sample.probability)"
   ]
  },
  {
   "cell_type": "markdown",
   "metadata": {},
   "source": [
    "For now, there is a problem somewhere."
   ]
  },
  {
   "cell_type": "markdown",
   "metadata": {},
   "source": [
    "### Bug in mult_const_mod ?"
   ]
  },
  {
   "cell_type": "code",
   "execution_count": 8,
   "metadata": {},
   "outputs": [
    {
     "ename": "IndexError",
     "evalue": "list index out of range",
     "output_type": "error",
     "traceback": [
      "\u001b[0;31m---------------------------------------------------------------------------\u001b[0m",
      "\u001b[0;31mIndexError\u001b[0m                                Traceback (most recent call last)",
      "\u001b[0;32m<ipython-input-8-6736f94372f2>\u001b[0m in \u001b[0;36m<module>\u001b[0;34m()\u001b[0m\n\u001b[1;32m     13\u001b[0m \u001b[0;31m# i.e final state should be |100>|0> = |1001>\u001b[0m\u001b[0;34m\u001b[0m\u001b[0;34m\u001b[0m\u001b[0;34m\u001b[0m\u001b[0m\n\u001b[1;32m     14\u001b[0m \u001b[0;34m\u001b[0m\u001b[0m\n\u001b[0;32m---> 15\u001b[0;31m \u001b[0mcirc\u001b[0m \u001b[0;34m=\u001b[0m \u001b[0mprog\u001b[0m\u001b[0;34m.\u001b[0m\u001b[0mto_circ\u001b[0m\u001b[0;34m(\u001b[0m\u001b[0mlink\u001b[0m\u001b[0;34m=\u001b[0m\u001b[0;34m[\u001b[0m\u001b[0mqat\u001b[0m\u001b[0;34m.\u001b[0m\u001b[0mlang\u001b[0m\u001b[0;34m.\u001b[0m\u001b[0mAQASM\u001b[0m\u001b[0;34m.\u001b[0m\u001b[0mclassarith\u001b[0m\u001b[0;34m]\u001b[0m\u001b[0;34m)\u001b[0m\u001b[0;34m\u001b[0m\u001b[0;34m\u001b[0m\u001b[0m\n\u001b[0m\u001b[1;32m     16\u001b[0m \u001b[0;34m\u001b[0m\u001b[0m\n\u001b[1;32m     17\u001b[0m \u001b[0mqpu\u001b[0m \u001b[0;34m=\u001b[0m \u001b[0mget_default_qpu\u001b[0m\u001b[0;34m(\u001b[0m\u001b[0;34m)\u001b[0m\u001b[0;34m\u001b[0m\u001b[0;34m\u001b[0m\u001b[0m\n",
      "\u001b[0;32m/home/tayral/.local/lib/python3.6/site-packages/qat/lang/AQASM/program.so\u001b[0m in \u001b[0;36mqat.lang.AQASM.program.Program.to_circ\u001b[0;34m()\u001b[0m\n",
      "\u001b[0;32m/home/tayral/.local/lib/python3.6/site-packages/qat/lang/linking/linker.so\u001b[0m in \u001b[0;36mqat.lang.linking.linker.Linker.link\u001b[0;34m()\u001b[0m\n",
      "\u001b[0;32m/home/tayral/.local/lib/python3.6/site-packages/qat/lang/linking/linker.so\u001b[0m in \u001b[0;36mqat.lang.linking.linker.Linker.link_gates\u001b[0;34m()\u001b[0m\n",
      "\u001b[0;32m/home/tayral/.local/lib/python3.6/site-packages/qat/lang/linking/util.so\u001b[0m in \u001b[0;36mqat.lang.linking.util.link_gates\u001b[0;34m()\u001b[0m\n",
      "\u001b[0;32m/home/tayral/.local/lib/python3.6/site-packages/qat/lang/linking/util.so\u001b[0m in \u001b[0;36mqat.lang.linking.util.generate_subcircuit\u001b[0;34m()\u001b[0m\n",
      "\u001b[0;32m/home/tayral/.local/lib/python3.6/site-packages/qat/core/gate_set.so\u001b[0m in \u001b[0;36mqat.core.gate_set.GateSignature.get_circuit\u001b[0;34m()\u001b[0m\n",
      "\u001b[0;32m/home/tayral/.local/lib/python3.6/site-packages/qat/lang/AQASM/classarith.so\u001b[0m in \u001b[0;36mqat.lang.AQASM.classarith.add_const\u001b[0;34m()\u001b[0m\n",
      "\u001b[0;31mIndexError\u001b[0m: list index out of range"
     ]
    }
   ],
   "source": [
    "prog = Program()\n",
    "reg = prog.qalloc(4) # 3 + 1 ancilla\n",
    "\n",
    "prog.apply(X, reg[0]) # 3 first qubits 'reg' in state |a> = |100>, i.e 1\n",
    "\n",
    "prog.apply(X, reg[3]) # 'acc' in state |b> = |10> ??\n",
    "\n",
    "constant = 3 # i.e |110> \n",
    "\n",
    "prog.apply(mult_const_mod(3, 1, constant, 2), reg)\n",
    "# expecting |a>|b + a c [2]> \n",
    "# b + ac = 1 + 1 * 3 = 0 mod 2\n",
    "# i.e final state should be |100>|0> = |1001>\n",
    "\n",
    "circ = prog.to_circ(link=[qat.lang.AQASM.classarith])\n",
    "\n",
    "qpu = get_default_qpu()\n",
    "job = circ.to_job(nbshots=0)\n",
    "res = qpu.submit(job)\n",
    "\n",
    "for sample in res:\n",
    "    print(sample.state, sample.probability)"
   ]
  },
  {
   "cell_type": "code",
   "execution_count": null,
   "metadata": {},
   "outputs": [],
   "source": [
    "prog = Program()\n",
    "#a, b = prog.qalloc(3), prog.qalloc(3)\n",
    "reg = prog.qalloc(5)\n",
    "prog.apply(X, reg[0]) # |100> i.e 1\n",
    "prog.apply(X, reg[3]) # |100> i.e 1\n",
    "prog.apply(mult_const_mod(3, 2, 0, 2), reg)\n",
    "# want to get |a>|b + a c [m]> with a = 1, b = 1, c = 1, m = 2; 1 + 1*1 [2] = 0\n",
    "# i.e |\"1\"> |\"1\"> = |100>|0>\n",
    "circ = prog.to_circ(link=[qat.lang.AQASM.classarith])\n",
    "\n",
    "qpu = get_default_qpu()\n",
    "job = circ.to_job(nbshots=0)\n",
    "res = qpu.submit(job)\n",
    "\n",
    "for sample in res:\n",
    "    print(sample.state, sample.probability)"
   ]
  },
  {
   "cell_type": "code",
   "execution_count": null,
   "metadata": {},
   "outputs": [],
   "source": []
  }
 ],
 "metadata": {
  "kernelspec": {
   "display_name": "Python 3",
   "language": "python",
   "name": "python3"
  },
  "language_info": {
   "codemirror_mode": {
    "name": "ipython",
    "version": 3
   },
   "file_extension": ".py",
   "mimetype": "text/x-python",
   "name": "python",
   "nbconvert_exporter": "python",
   "pygments_lexer": "ipython3",
   "version": "3.6.8"
  }
 },
 "nbformat": 4,
 "nbformat_minor": 4
}
