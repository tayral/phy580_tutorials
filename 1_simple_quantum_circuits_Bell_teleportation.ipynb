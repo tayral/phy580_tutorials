{
 "cells": [
  {
   "cell_type": "markdown",
   "metadata": {},
   "source": [
    "# Tutorial 1: Simple quantum circuits\n",
    "\n",
    "## Prerequisite: installation of myqlm\n",
    "\n",
    "    pip install myqlm\n",
    "\n",
    "    pip install myqlm-simulators\n",
    "\n",
    "\n",
    "## Bell state circuit\n",
    "\n",
    "Our aim is to prepare the Bell state $$\\frac{|00\\rangle + |11\\rangle}{\\sqrt{2}}$$"
   ]
  },
  {
   "cell_type": "code",
   "execution_count": 1,
   "metadata": {},
   "outputs": [
    {
     "data": {
      "image/png": "[encoded data removed]",
      "text/plain": [
       "<IPython.core.display.Image object>"
      ]
     },
     "execution_count": 1,
     "metadata": {},
     "output_type": "execute_result"
    }
   ],
   "source": [
    "from qat.lang.AQASM import H, CNOT, Program\n",
    "\n",
    "prog = Program()\n",
    "reg = prog.qalloc(2)\n",
    "\n",
    "prog.apply(H, reg[0])\n",
    "prog.apply(CNOT, reg)\n",
    "\n",
    "circ = prog.to_circ()\n",
    "\n",
    "%qatdisplay circ"
   ]
  },
  {
   "cell_type": "markdown",
   "metadata": {},
   "source": [
    "We now execute this circuit on a Quantum Processing Unit (QPU):"
   ]
  },
  {
   "cell_type": "code",
   "execution_count": null,
   "metadata": {},
   "outputs": [],
   "source": [
    "from qat.qpus import get_default_qpu\n",
    "\n",
    "qpu = get_default_qpu()\n",
    "job = circ.to_job(nbshots=100)\n",
    "res = qpu.submit(job)"
   ]
  },
  {
   "cell_type": "markdown",
   "metadata": {},
   "source": [
    "We print the results:"
   ]
  },
  {
   "cell_type": "code",
   "execution_count": null,
   "metadata": {},
   "outputs": [],
   "source": [
    "for sample in res:\n",
    "    print(sample.state, sample.amplitude, sample.probability)"
   ]
  },
  {
   "cell_type": "markdown",
   "metadata": {},
   "source": [
    "## Teleportation\n",
    "\n",
    "Alice wants to send a qubit in state $|\\psi\\rangle$ to Bob with the help of a shared entangled pair between Alice and Bob.\n"
   ]
  },
  {
   "cell_type": "code",
   "execution_count": 4,
   "metadata": {},
   "outputs": [
    {
     "data": {
      "image/png": "[encoded data removed]",
      "text/plain": [
       "<IPython.core.display.Image object>"
      ]
     },
     "execution_count": 4,
     "metadata": {},
     "output_type": "execute_result"
    }
   ],
   "source": [
    "from qat.lang.AQASM import RX, X, Z\n",
    "\n",
    "alpha = 0.45\n",
    "\n",
    "prog = Program()\n",
    "reg = prog.qalloc(3) # 1 qubit for |psi>, 2 qubits for Bell state\n",
    "creg = prog.calloc(2) # 2 classical bits\n",
    "# prepare state on Alice's side (unknown to Bob)\n",
    "prog.apply(RX(alpha), reg[0])\n",
    "\n",
    "# prepare Bell state\n",
    "prog.apply(H, reg[1])\n",
    "prog.apply(CNOT, reg[1], reg[2])\n",
    "\n",
    "# teleportation circuit\n",
    "CNOT(reg[0], reg[1]) # equivalent to prog.apply(CNOT, reg[0], reg[1])\n",
    "H(reg[0])\n",
    "prog.measure(reg[0], creg[0])\n",
    "prog.measure(reg[1], creg[1])\n",
    "prog.cc_apply(creg[1], X, reg[2])\n",
    "prog.cc_apply(creg[0], Z, reg[2])\n",
    "\n",
    "circ = prog.to_circ()\n",
    "\n",
    "%qatdisplay circ"
   ]
  },
  {
   "cell_type": "code",
   "execution_count": null,
   "metadata": {},
   "outputs": [],
   "source": [
    "qpu = get_default_qpu()\n",
    "job = circ.to_job(nbshots=0)\n",
    "res = qpu.submit(job)\n",
    "\n",
    "for sample in res:\n",
    "    print(sample.state, sample.amplitude)"
   ]
  },
  {
   "cell_type": "code",
   "execution_count": null,
   "metadata": {},
   "outputs": [],
   "source": [
    "import numpy as np\n",
    "# Expected result\n",
    "# RX(alpha) |0> = cos(alpha/2) - i sin(alpha/2)\n",
    "print(\"Expecting: %s |0> - i %s |1>\"%(np.cos(alpha/2), np.sin(alpha/2)))"
   ]
  },
  {
   "cell_type": "code",
   "execution_count": null,
   "metadata": {},
   "outputs": [],
   "source": []
  }
 ],
 "metadata": {
  "kernelspec": {
   "display_name": "Python 3",
   "language": "python",
   "name": "python3"
  },
  "language_info": {
   "codemirror_mode": {
    "name": "ipython",
    "version": 3
   },
   "file_extension": ".py",
   "mimetype": "text/x-python",
   "name": "python",
   "nbconvert_exporter": "python",
   "pygments_lexer": "ipython3",
   "version": "3.6.8"
  }
 },
 "nbformat": 4,
 "nbformat_minor": 4
}
