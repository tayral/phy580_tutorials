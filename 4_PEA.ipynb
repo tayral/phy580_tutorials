{
 "cells": [
  {
   "cell_type": "markdown",
   "metadata": {},
   "source": [
    "# Quantum Phase Estimation algorithm: implementation\n",
    "\n",
    "This notebook shows how to implement the quantum phase estimation (QPE) algorithm.\n",
    "\n",
    "The goal is, given a unitary operator $U$ and an associated eigenvector $|\\Psi\\rangle$ with eigenvalue $e^{2i\\pi \\theta}$, to find an estimate of $\\theta$.\n",
    "\n",
    "The main steps of the algorithm are:\n",
    "\n",
    "- **Walsh-Hadamard transformation** on the phase register\n",
    "- **Controlled-$U^{2^k}$ gates** on the full (phase + data) register\n",
    "- **inverse Quantum Fourier Transform** on the phase register\n",
    "\n",
    "We start by writing the main routine, leaving $U$ as a black box (a ``QRoutine``) that will be specified later:"
   ]
  },
  {
   "cell_type": "code",
   "execution_count": null,
   "metadata": {},
   "outputs": [],
   "source": [
    "from qat.lang.AQASM.qftarith import IQFT\n",
    "from qat.lang.AQASM import H, QRoutine, RX, Program\n",
    "\n",
    "def build_qpe_routine(U_routine, nbits_phase):\n",
    "    \"\"\"\n",
    "    Construct a phase estimation routine corresponding to a given operator U.\n",
    "    \n",
    "    Args:\n",
    "        U_routine (QRoutine): the quantum routine corresponding to U\n",
    "        nbits_phase (int): number of bits for phase register\n",
    "        \n",
    "    Returns:\n",
    "        QRoutine: a quantum routine\n",
    "    \"\"\"\n",
    "    nbits_data = U_routine.arity\n",
    "    \n",
    "    routine = QRoutine()\n",
    "    phase_reg = routine.new_wires(nbits_phase)\n",
    "    data_reg = routine.new_wires(nbits_data)\n",
    "    \n",
    "    for qb in range(nbits_phase):\n",
    "        routine.apply(H, phase_reg[qb])\n",
    "    \n",
    "    # very simple (and inefficient) way of implementing c-U^2^j\n",
    "    for j_ind in range(nbits_phase):\n",
    "        for _ in range(2**j_ind):\n",
    "            routine.apply(U_routine.ctrl(), phase_reg[j_ind], data_reg)\n",
    "   \n",
    "    # now apply inverse QFT\n",
    "    routine.apply(IQFT(nbits_phase), phase_reg)\n",
    "    \n",
    "    return routine"
   ]
  },
  {
   "cell_type": "markdown",
   "metadata": {},
   "source": [
    "## A simple example: a rotation, $U = R_z$\n",
    "\n",
    "We start with a very simple example of operation $U$, namely a rotation around the $Z$ axis.\n",
    "\n",
    "Let us consider\n",
    "$$U = R_z(\\theta) = e^{-i \\theta / 2 \\sigma_z}$$\n",
    "\n",
    "(Can you write its representation as a $2\\times 2$ matrix ?)\n",
    "\n",
    "Since it is diagonal, we already know what to expect: what are the two eigenvalues? What is the output you expect (pay attention to the conventions we used for the QPE algorithm above)?"
   ]
  },
  {
   "cell_type": "code",
   "execution_count": null,
   "metadata": {},
   "outputs": [],
   "source": [
    "import numpy as np\n",
    "\n",
    "alpha = 0.32\n",
    "# thus should readout theta = alpha / (4pi) = 0.32 / (4 pi) ~ 0.02546\n",
    "\n",
    "nbits_phase = 10\n",
    "theta_expected = alpha/(4*np.pi) \n",
    "print(\"Expected output = %s (binary: %s)\"%(theta_expected,\n",
    "                                           bin(int(theta_expected* 2**nbits_phase))))\n",
    "\n"
   ]
  },
  {
   "cell_type": "markdown",
   "metadata": {},
   "source": [
    "We now define the ``QRoutine`` corresponding to this operation, and generate and execute the corresponding QPE circuit:"
   ]
  },
  {
   "cell_type": "code",
   "execution_count": null,
   "metadata": {},
   "outputs": [],
   "source": [
    "myroutine = QRoutine()\n",
    "myroutine.apply(RX(alpha), 0)\n",
    "\n",
    "pea_routine = build_qpe_routine(myroutine, nbits_phase)\n",
    "\n",
    "prog = Program()\n",
    "phase_reg = prog.qalloc(nbits_phase)\n",
    "data_reg = prog.qalloc(myroutine.arity)\n",
    "prog.apply(pea_routine, phase_reg, data_reg)\n",
    "circ = prog.to_circ()\n",
    "\n",
    "%jsqatdisplay circ\n",
    "\n",
    "from qat.qpus import get_default_qpu\n",
    "qpu = get_default_qpu()\n",
    "res = qpu.submit(circ.to_job()) # could modify job\n",
    "for sample in res:\n",
    "    if sample.probability > 0.05:\n",
    "        print(sample.state, sample.probability)"
   ]
  },
  {
   "cell_type": "markdown",
   "metadata": {},
   "source": [
    "- Why are there also states starting with 1111... ? This is because if $\\theta$ is an admissible answer, so is $1 - \\theta$.\n",
    "\n",
    "We can convert the final bitstrings to their decimal representation and check whether they match the expected result:"
   ]
  },
  {
   "cell_type": "code",
   "execution_count": null,
   "metadata": {},
   "outputs": [],
   "source": [
    "other_sol = int('1111100110', 2)/2**nbits_phase\n",
    "print(\"Other solution:\", other_sol)\n",
    "\n",
    "theta_exp = 1 - alpha/(4*np.pi) \n",
    "print(\"Other theta: %s (compare to 1 - theta = %s)\"%(theta_exp, 1 - theta_exp))"
   ]
  },
  {
   "cell_type": "markdown",
   "metadata": {},
   "source": [
    "### Refinement: measure only the phase register\n",
    "\n",
    "Since the information about the phase is contained only in the phase register, we can modify the code above to measure only the phase register:"
   ]
  },
  {
   "cell_type": "code",
   "execution_count": null,
   "metadata": {},
   "outputs": [],
   "source": [
    "#from qat.lang.AQASM import QInt\n",
    "#myroutine = QRoutine()\n",
    "#myroutine.apply(RX(alpha), 0)\n",
    "\n",
    "#pea_routine = build_qpe_routine(myroutine, nbits_phase)\n",
    "\n",
    "#prog = Program()\n",
    "#phase_reg = prog.qalloc(nbits_phase)\n",
    "#data_reg = prog.qalloc(myroutine.arity)\n",
    "#prog.apply(pea_routine, phase_reg, data_reg)\n",
    "\n",
    "#circ = prog.to_circ()\n",
    "\n",
    "#from qat.qpus import get_default_qpu\n",
    "#qpu = get_default_qpu()\n",
    "res = qpu.submit(circ.to_job(qubits=phase_reg)) # measure only phase register\n",
    "for sample in res:\n",
    "    if sample.probability > 0.05: # print states with more than 5% probability\n",
    "        print(sample.state.int/2**nbits_phase, sample.probability)"
   ]
  },
  {
   "cell_type": "markdown",
   "metadata": {},
   "source": [
    "## Finding the ground-state energy of a Hamiltonian via QPE\n",
    "\n",
    "We now want to find the ground-state energy of a Hamiltonian $H$ with the QPE algorithm. For this, we choose $$U = e^{-i H}.$$\n",
    "\n",
    "As a Hermitian operator, any Hamiltonian can always be written as:\n",
    "$$ H = \\sum_k \\lambda_k P_k$$\n",
    "with $P_k$ a tensor product of Pauli matrices (e.g $P_k = X_0 Y_1 = \\sigma^x_0 \\otimes \\sigma^y_1$ or $P_k = Z_0 Z_2 Z_3 = \\sigma^z_0 \\otimes I_1 \\otimes \\sigma^z_2 \\otimes \\sigma^z_3$) and $\\lambda_k \\in \\mathbb{R}$.\n",
    "\n",
    "To implement the QPE algorithm, we must implement controlled $U^{2^i}$ operations.\n",
    "\n",
    "The core task consists in implementing $U$ itself as a sequence of known gates.\n",
    "Since the Pauli terms $P_k$ do not commute in general, $U$ can in principle not be written as a product of exponentials of Pauli products. However, in a so-called \"Trotter approximation\", we will write\n",
    "\n",
    "$$e^{-i \\sum_k \\lambda_k P_k} \\approx \\prod_{n=1}^{N} \\left( \\prod_k e^{-i \\lambda_k P_k / N} \\right ),$$\n",
    "which becomes exact in the $N\\rightarrow \\infty$ limit.\n",
    "\n",
    "Thus, the basic operation that is needed is of the form\n",
    "$$ R_k(\\theta) = \\exp\\left(-i \\frac{\\theta}{2} P_k\\right),$$\n",
    "\n",
    "which is not a \"simple\" gate unless $P_k$ contains only one non-identity Pauli matrix. Yet, it can be decomposed as a sequence of simple gates, as shown in the routine below. It uses only CNOT gates and single-qubit operations."
   ]
  },
  {
   "cell_type": "code",
   "execution_count": null,
   "metadata": {},
   "outputs": [],
   "source": [
    "from qat.lang.AQASM import CNOT, RZ\n",
    "def construct_Rk_routine(ops, qbits, theta):\n",
    "    \"\"\"Implement\n",
    "    \n",
    "    .. math::\n",
    "         R_k(\\theta) = \\exp\\left(-i \\frac{\\theta}{2} P_k\\right)\n",
    "         \n",
    "    with P_k a Pauli string\n",
    "    \n",
    "    Args:\n",
    "        ops (str): Pauli operators (e.g X, Y, ZZ, etc.)\n",
    "        qbits (list<int>): qubits on which they act\n",
    "        theta (Variable): the abstract variable\n",
    "        \n",
    "    Returns:\n",
    "        QRoutine\n",
    "        \n",
    "    Notes:\n",
    "        the indices of the wires of the QRoutine are relative\n",
    "        to the smallest index in qbits (i.e always start at qb=0)\n",
    "    \"\"\"\n",
    "    min_qb = min(qbits)\n",
    "    qbits = [qb - min_qb for qb in qbits]  # everything must be defined relative to 0\n",
    "    qrout = QRoutine()\n",
    "    with qrout.compute():\n",
    "        for op, qbit in zip(ops, qbits):\n",
    "            if op == \"X\":\n",
    "                qrout.apply(H, qbit)\n",
    "            if op == \"Y\":\n",
    "                qrout.apply(RX(np.pi/2), qbit)\n",
    "        for ind_qb in range(len(qbits)-1):\n",
    "            qrout.apply(CNOT, qbits[ind_qb], qbits[ind_qb+1])\n",
    "    qrout.apply(RZ(theta), qbits[-1])\n",
    "    qrout.uncompute() # uncompute() applies U^dagger,\n",
    "    # with U the unitary corresponding to the gates applied within the \"with XX.compute()\" context\n",
    "    \n",
    "    return qrout"
   ]
  },
  {
   "cell_type": "markdown",
   "metadata": {},
   "source": [
    "Let us print out the circuit corresponding to $P_k = Z_1 Y_2 Z_3$: "
   ]
  },
  {
   "cell_type": "code",
   "execution_count": null,
   "metadata": {},
   "outputs": [],
   "source": [
    "from qat.core import Variable\n",
    "theta = Variable(\"\\\\theta\", float)\n",
    "rotation = construct_Rk_routine(\"ZYZ\", [1, 2, 3], theta)\n",
    "%qatdisplay rotation"
   ]
  },
  {
   "cell_type": "markdown",
   "metadata": {},
   "source": [
    "... and here to $P_k = X$:"
   ]
  },
  {
   "cell_type": "code",
   "execution_count": null,
   "metadata": {},
   "outputs": [],
   "source": [
    "rotation = construct_Rk_routine(\"X\", [1], theta)\n",
    "%qatdisplay rotation"
   ]
  },
  {
   "cell_type": "markdown",
   "metadata": {},
   "source": [
    "(in this simple case, the pattern could be replaced by a $R_X$ gate)\n",
    "\n",
    "We now construct the full QPE routine. Instead of reusing the function `build_qpe_routine` we used at the beginning of the tutorial, we rewrite a full routine that takes the Hamiltonian $H$ instead of the unitary $U$ as an input:"
   ]
  },
  {
   "cell_type": "code",
   "execution_count": null,
   "metadata": {},
   "outputs": [],
   "source": [
    "def build_qpe_routine_for_hamiltonian(hamiltonian, n_phase_bits, n_trotter=1):\n",
    "    \"\"\"\n",
    "    Args:\n",
    "        hamiltonian (Observable): a Hamiltonian\n",
    "        n_phase_bits (int): the number of phase bits\n",
    "        n_trotter (int): the number of trotter steps\n",
    "    \n",
    "    \"\"\"\n",
    "    routine = QRoutine()\n",
    "    phase_reg = routine.new_wires(n_phase_bits)\n",
    "    data_reg = routine.new_wires(hamiltonian.nbqbits)\n",
    "    \n",
    "    # Hadamard wall\n",
    "    for qb in range(n_phase_bits):\n",
    "        routine.apply(H, phase_reg[qb])\n",
    "    \n",
    "    # controlled unitaries\n",
    "    for j_ind in range(n_phase_bits):\n",
    "        for _ in range(n_trotter):\n",
    "            for term in hamiltonian.terms:\n",
    "                theta = term.coeff * 2**(j_ind + 1) / n_trotter\n",
    "                Rk_routine = construct_Rk_routine(term.op, term.qbits, theta)\n",
    "                try:\n",
    "                    routine.apply(Rk_routine.ctrl(), phase_reg[j_ind],\n",
    "                                  [data_reg[qb] for qb in term.qbits])\n",
    "                except:\n",
    "                    print(term.qbits)\n",
    "                    raise\n",
    "   \n",
    "    # now apply inverse QFT\n",
    "    routine.apply(IQFT(n_phase_bits), phase_reg)\n",
    "    \n",
    "    return routine"
   ]
  },
  {
   "cell_type": "markdown",
   "metadata": {},
   "source": [
    "We now write the function that performs the execution of the QPE routine using a QPU:"
   ]
  },
  {
   "cell_type": "code",
   "execution_count": null,
   "metadata": {},
   "outputs": [],
   "source": [
    "from qat.lang.AQASM import QInt\n",
    "def perform_qpe(qpu, hamiltonian, psi0, n_phase_bits, n_trotter, verbose=False):\n",
    "    \"\"\"\n",
    "    Args:\n",
    "        qpu (QPU): a QPU\n",
    "        hamiltonian (Observable): a Hamiltonian\n",
    "        psi0 (np.array): an eigenvector of H\n",
    "        n_phase_bits (int): number of bits for the phase\n",
    "        n_trotter (int): number of trotter slices\n",
    "        verbose (bool, optional): for verbose output. Defaults to False.\n",
    "        \n",
    "    Returns:\n",
    "        np.array: the vector of probabilities (frequencies)\n",
    "    \"\"\"\n",
    "    # we prepare the initial state |0...0>|psi0> of the register\n",
    "    phase_reg_in = np.zeros((2**n_phase_bits,))\n",
    "    phase_reg_in[0] = 1.0 # |0>^n_phase_bits\n",
    "    psi_init = np.kron(phase_reg_in, psi0)\n",
    "    \n",
    "    # we initialize the program\n",
    "    prog = Program()\n",
    "    phase_reg = prog.qalloc(n_phase_bits, class_type=QInt, reverse_bit_order=False)\n",
    "    data_reg = prog.qalloc(hamiltonian.nbqbits)\n",
    "\n",
    "    # we use a StatePreparation gate to prepare psi_init\n",
    "    prog.apply(StatePreparation(psi_init), phase_reg, data_reg)\n",
    "\n",
    "    # we call the QPE routine\n",
    "    pea_routine = build_qpe_routine_for_hamiltonian(hamiltonian, n_phase_bits, n_trotter=n_trotter)\n",
    "    prog.apply(pea_routine, phase_reg, data_reg)\n",
    "\n",
    "    # we generate the corresponding circuit and execute it\n",
    "    circ = prog.to_circ()\n",
    "    res = qpu.submit(circ.to_job())\n",
    "\n",
    "    # we store the output probabilities in a vector\n",
    "    probs = np.zeros(2**n_phase_bits)\n",
    "    list_states = []\n",
    "    for sample in res:\n",
    "        list_states.append((sample.probability, sample.state))\n",
    "        probs[sample.state.value[0]] = sample.probability\n",
    "        \n",
    "    if verbose:\n",
    "        # we print the first 5 states (sorted by decreasing probabilities)\n",
    "        for ind, (prob, state) in enumerate(reversed(sorted(list_states,  key=lambda x: x[0]))):\n",
    "        \n",
    "            if ind < 5:\n",
    "                print(state, state.value[0]/2**n_phase_bits, prob)\n",
    "\n",
    "    return probs"
   ]
  },
  {
   "cell_type": "markdown",
   "metadata": {},
   "source": [
    "### A simple test\n",
    "\n",
    "We now test our routine on a simple Hamiltonian:\n",
    "\n",
    "$$H = -0.5 X_0 + 0.35 Z_0 Z_1 + 1.5 Z_1.$$\n",
    "\n",
    "We first construct its matrix representation, which we diagonalize using ``numpy.linalg.eigh`` to know the final result we expect."
   ]
  },
  {
   "cell_type": "code",
   "execution_count": null,
   "metadata": {},
   "outputs": [],
   "source": [
    "from qat.core import Observable, Term\n",
    "hamiltonian = Observable(2, pauli_terms=[Term(-0.5, \"X\", [0]), \n",
    "                                         Term(0.35, \"ZZ\", [0, 1]),\n",
    "                                         Term(1.5, \"Z\", [1])])\n",
    "print(\"H =\", hamiltonian)\n",
    "\n",
    "from util import make_matrix\n",
    "H_mat = make_matrix(hamiltonian)\n",
    "eigvals, eigvecs = np.linalg.eigh(H_mat)\n",
    "\n",
    "ind = 0\n",
    "psi0 = eigvecs[:, ind]\n",
    "E0 = eigvals[ind]\n",
    "theta_expected = -E0/(2*np.pi)\n",
    "\n",
    "print(\"Eigenvalues = \", eigvals)\n",
    "print(\"expected theta (-E0/2pi) = \", theta_expected)\n",
    "\n"
   ]
  },
  {
   "cell_type": "markdown",
   "metadata": {},
   "source": [
    "We then execute the QPE algorithm for various values of the number of phase bits and trotter steps $N$:"
   ]
  },
  {
   "cell_type": "code",
   "execution_count": null,
   "metadata": {},
   "outputs": [],
   "source": [
    "from qat.qpus import PyLinalg\n",
    "from qat.lang.AQASM import AbstractGate\n",
    "StatePreparation = AbstractGate(\"STATE_PREPARATION\", [np.ndarray])\n",
    "qpu = PyLinalg()"
   ]
  },
  {
   "cell_type": "code",
   "execution_count": null,
   "metadata": {},
   "outputs": [],
   "source": [
    "import matplotlib.pyplot as plt\n",
    "from matplotlib.gridspec import GridSpec\n",
    "gs = GridSpec(2, 2)\n",
    "plt.figure(figsize=(6, 7))\n",
    "\n",
    "for ind, n_phase_bits in enumerate([4, 6, 10, 12]):\n",
    "    plt.subplot(gs[ind])\n",
    "    plt.title(r\"%s phase bits\"%n_phase_bits)\n",
    "\n",
    "    plt.plot([theta_expected], [-0.05], 'o', ms=10)\n",
    "    for n_trotter in [1, 2, 3]:\n",
    "        probs = perform_qpe(qpu, hamiltonian, psi0, n_phase_bits, n_trotter)\n",
    "\n",
    "        plt.plot(np.linspace(0, 1, 2**n_phase_bits), probs, label=r\"ntrotter = %s\"%n_trotter)\n",
    "    plt.grid()\n",
    "    plt.legend(loc=\"best\")\n",
    "    plt.xlabel(r\"-E0/(2*pi)\")\n",
    "plt.tight_layout()"
   ]
  },
  {
   "cell_type": "code",
   "execution_count": null,
   "metadata": {},
   "outputs": [],
   "source": []
  }
 ],
 "metadata": {
  "kernelspec": {
   "display_name": "Python 3",
   "language": "python",
   "name": "python3"
  },
  "language_info": {
   "codemirror_mode": {
    "name": "ipython",
    "version": 3
   },
   "file_extension": ".py",
   "mimetype": "text/x-python",
   "name": "python",
   "nbconvert_exporter": "python",
   "pygments_lexer": "ipython3",
   "version": "3.6.9"
  }
 },
 "nbformat": 4,
 "nbformat_minor": 4
}
