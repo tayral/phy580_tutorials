{
 "cells": [
  {
   "cell_type": "markdown",
   "metadata": {},
   "source": [
    "# Running a quantum program on a true quantum processor\n",
    "\n",
    "Here, we execute the Bell state circuit on an actual QPU manufactured by IBM."
   ]
  },
  {
   "cell_type": "code",
   "execution_count": 1,
   "metadata": {},
   "outputs": [
    {
     "name": "stdout",
     "output_type": "stream",
     "text": [
      "|11> 0.53\n",
      "|00> 0.47\n"
     ]
    }
   ],
   "source": [
    "from qat.lang.AQASM import H, CNOT, Program\n",
    "\n",
    "prog = Program()\n",
    "reg = prog.qalloc(2)\n",
    "prog.apply(H, reg[0])\n",
    "prog.apply(CNOT, reg)\n",
    "\n",
    "job = prog.to_circ().to_job(nbshots=100)\n",
    "\n",
    "from qat.interop.qiskit import BackendToQPU\n",
    "MY_IBM_TOKEN = \"...\" #you need to create an IBMQ account\n",
    "qpu = BackendToQPU(token=MY_IBM_TOKEN, ibmq_backend=\"ibmq_qasm_simulator\") # to use an IBM simulator\n",
    "# qpu = BackendToQPU(token=MY_IBM_TOKEN, ibmq_backend=\"ibmq_athens\") # actual QPU, may take time\n",
    "\n",
    "# Submit a job to IBMQ\n",
    "result = qpu.submit(job)\n",
    "\n",
    "for sample in result:\n",
    "    print(sample.state, sample.probability)"
   ]
  },
  {
   "cell_type": "markdown",
   "metadata": {},
   "source": [
    "Compare to a perfect QPU:"
   ]
  },
  {
   "cell_type": "code",
   "execution_count": 2,
   "metadata": {},
   "outputs": [
    {
     "name": "stdout",
     "output_type": "stream",
     "text": [
      "|11> 0.44\n",
      "|00> 0.56\n"
     ]
    }
   ],
   "source": [
    "from qat.qpus import get_default_qpu\n",
    "perfect_qpu = get_default_qpu()\n",
    "\n",
    "result = perfect_qpu.submit(job)\n",
    "for sample in result:\n",
    "    print(sample.state, sample.probability)"
   ]
  },
  {
   "cell_type": "code",
   "execution_count": null,
   "metadata": {},
   "outputs": [],
   "source": []
  }
 ],
 "metadata": {
  "kernelspec": {
   "display_name": "Python 3",
   "language": "python",
   "name": "python3"
  },
  "language_info": {
   "codemirror_mode": {
    "name": "ipython",
    "version": 3
   },
   "file_extension": ".py",
   "mimetype": "text/x-python",
   "name": "python",
   "nbconvert_exporter": "python",
   "pygments_lexer": "ipython3",
   "version": "3.6.9"
  }
 },
 "nbformat": 4,
 "nbformat_minor": 4
}
