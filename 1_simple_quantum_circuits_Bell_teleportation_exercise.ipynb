{
 "cells": [
  {
   "cell_type": "markdown",
   "metadata": {},
   "source": [
    "# Tutorial 1: Simple quantum circuits\n",
    "\n",
    "## Prerequisite: installation of myqlm\n",
    "\n",
    "    pip install myqlm\n",
    "\n",
    "    pip install myqlm-simulators\n",
    "\n",
    "## Documentation\n",
    "\n",
    "You will find code examples on https://myqlm.github.io.\n",
    "\n",
    "## 1. Bell state circuit\n",
    "\n",
    "Our aim is to prepare the Bell state $$\\frac{|00\\rangle + |11\\rangle}{\\sqrt{2}}$$\n"
   ]
  },
  {
   "cell_type": "code",
   "execution_count": null,
   "metadata": {},
   "outputs": [],
   "source": [
    "from qat.lang.AQASM import H, CNOT, Program\n",
    "\n",
    "# write a quantum program to construct a Bell state\n",
    "#...\n",
    "\n",
    "#circ = prog.to_circ()\n",
    "\n",
    "#%qatdisplay circ"
   ]
  },
  {
   "cell_type": "markdown",
   "metadata": {},
   "source": [
    "We now want to execute this circuit on a Quantum Processing Unit (QPU):"
   ]
  },
  {
   "cell_type": "code",
   "execution_count": null,
   "metadata": {},
   "outputs": [],
   "source": [
    "# we load a \"QPU\" (here, a simulator)\n",
    "from qat.qpus import get_default_qpu\n",
    "qpu = get_default_qpu()\n",
    "\n",
    "# now, we construct a \"job\" to submit to this QPU\n",
    "job = circ.to_job(nbshots=10, aggregate_data=False)\n",
    "res = qpu.submit(job)"
   ]
  },
  {
   "cell_type": "markdown",
   "metadata": {},
   "source": [
    "The number of shots is the number of independent final $Z$-axis measurements on the quantum state. Thus, we expect to see the 10 outcomes of measuring both qubits on the $Z$ axis. "
   ]
  },
  {
   "cell_type": "markdown",
   "metadata": {},
   "source": [
    "We print the results:"
   ]
  },
  {
   "cell_type": "code",
   "execution_count": null,
   "metadata": {},
   "outputs": [],
   "source": [
    "for sample in res:\n",
    "    print(sample.state)"
   ]
  },
  {
   "cell_type": "markdown",
   "metadata": {},
   "source": [
    "We can tell the QPU to aggregate the data, i.e collect the statistics of the outcomes to compute the histogram of the shots, and hence the estimated probability (``sample.probability``) (with its statistical error ``sample.err``) of a computational state in the final distribution:"
   ]
  },
  {
   "cell_type": "code",
   "execution_count": null,
   "metadata": {},
   "outputs": [],
   "source": [
    "job = circ.to_job(nbshots=10, aggregate_data=False)\n",
    "res = qpu.submit(job)\n",
    "for sample in res:\n",
    "    print(sample.state, sample.probability, sample.err)"
   ]
  },
  {
   "cell_type": "markdown",
   "metadata": {},
   "source": [
    "Finally, since we are performing classical simulation, we have access to the exact probabilities, and to the probability amplitudes of the states (because we are doing pure-state simulations---as opposed to density-matrix simulations---at this stage). This is achieved by choosing an infinite number of shots, which we choose, by convention, by setting ``nbshots=0``:"
   ]
  },
  {
   "cell_type": "code",
   "execution_count": null,
   "metadata": {},
   "outputs": [],
   "source": [
    "job = circ.to_job(nbshots=0)\n",
    "res = qpu.submit(job)\n",
    "for sample in res:\n",
    "    print(sample.state, sample.probability, sample.amplitude)"
   ]
  },
  {
   "cell_type": "markdown",
   "metadata": {},
   "source": [
    "## 2. Teleportation\n",
    "\n",
    "Alice wants to send a qubit in state $|\\psi\\rangle$ to Bob with the help of a shared entangled pair between Alice and Bob.\n",
    "\n",
    "\n",
    "\n",
    "### Solution\n",
    "We suppose Alice has a state $\\cos(\\alpha/2) |0\\rangle - i \\sin(\\alpha/2) |1\\rangle$, and teleport it to Bob."
   ]
  },
  {
   "cell_type": "code",
   "execution_count": null,
   "metadata": {},
   "outputs": [],
   "source": [
    "from qat.lang.AQASM import RX, X, Z\n",
    "\n",
    "alpha = 0.45\n",
    "\n",
    "prog = Program()\n",
    "reg = prog.qalloc(3) # 1 qubit for Alice, 1 qubit for Bob, 1 shared qubit\n",
    "creg = prog.calloc(2) # 2 classical bits\n",
    "# prepare state on Alice's side (unknown to Bob)\n",
    "prog.apply(RX(alpha), reg[0])\n",
    "\n",
    "# prepare Bell state\n",
    "# ...\n",
    "\n",
    "# teleportation circuit\n",
    "# Hint: to perform an intermediate measurement: prog.measure(...)\n",
    "# Hint: to perform an operation controlled by a classical bit: prog.cc_apply(...)\n",
    "\n",
    "#...\n",
    "\n",
    "#circ = prog.to_circ()\n",
    "\n",
    "#%qatdisplay circ"
   ]
  },
  {
   "cell_type": "markdown",
   "metadata": {},
   "source": [
    "Let us now execute the circuit, supposing we have infinite statistics (infinite number of shots):"
   ]
  },
  {
   "cell_type": "code",
   "execution_count": null,
   "metadata": {},
   "outputs": [],
   "source": [
    "qpu = get_default_qpu()\n",
    "# job = ... \n",
    "# res = ...\n",
    "\n",
    "#for sample in res:\n",
    "#    print(sample.state, sample.amplitude, sample.probability)"
   ]
  },
  {
   "cell_type": "code",
   "execution_count": null,
   "metadata": {},
   "outputs": [],
   "source": [
    "import numpy as np\n",
    "# Expected result\n",
    "# RX(alpha) |0> = cos(alpha/2) - i sin(alpha/2)\n",
    "print(\"Expecting: %s |0> - i %s |1>\"%(np.cos(alpha/2), np.sin(alpha/2)))"
   ]
  }
 ],
 "metadata": {
  "kernelspec": {
   "display_name": "Python 3",
   "language": "python",
   "name": "python3"
  },
  "language_info": {
   "codemirror_mode": {
    "name": "ipython",
    "version": 3
   },
   "file_extension": ".py",
   "mimetype": "text/x-python",
   "name": "python",
   "nbconvert_exporter": "python",
   "pygments_lexer": "ipython3",
   "version": "3.6.8"
  }
 },
 "nbformat": 4,
 "nbformat_minor": 4
}
